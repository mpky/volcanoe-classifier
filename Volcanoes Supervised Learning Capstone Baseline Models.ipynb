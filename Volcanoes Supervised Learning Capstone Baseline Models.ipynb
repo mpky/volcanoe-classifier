{
 "cells": [
  {
   "cell_type": "markdown",
   "metadata": {},
   "source": [
    "# Baseline Models"
   ]
  },
  {
   "cell_type": "markdown",
   "metadata": {},
   "source": [
    "### Prepare the Data"
   ]
  },
  {
   "cell_type": "code",
   "execution_count": 1,
   "metadata": {
    "ExecuteTime": {
     "end_time": "2019-01-22T23:28:47.799183Z",
     "start_time": "2019-01-22T23:28:44.620887Z"
    }
   },
   "outputs": [
    {
     "name": "stderr",
     "output_type": "stream",
     "text": [
      "/usr/local/lib/python3.7/site-packages/matplotlib/__init__.py:886: MatplotlibDeprecationWarning: \n",
      "examples.directory is deprecated; in the future, examples will be found relative to the 'datapath' directory.\n",
      "  \"found relative to the 'datapath' directory.\".format(key))\n"
     ]
    }
   ],
   "source": [
    "import warnings\n",
    "from sklearn.metrics import confusion_matrix, recall_score, precision_score, f1_score, classification_report\n",
    "from sklearn.decomposition import PCA\n",
    "from sklearn.svm import SVC\n",
    "from sklearn import linear_model\n",
    "from xgboost import XGBClassifier\n",
    "from sklearn.model_selection import cross_val_score\n",
    "from sklearn.ensemble import RandomForestClassifier, GradientBoostingClassifier\n",
    "import seaborn as sns\n",
    "import numpy as np\n",
    "import pandas as pd\n",
    "import matplotlib.pyplot as plt\n",
    "%matplotlib inline\n",
    "from sklearn.metrics import classification_report\n",
    "\n",
    "warnings.filterwarnings(\"ignore\", category=FutureWarning)"
   ]
  },
  {
   "cell_type": "code",
   "execution_count": 2,
   "metadata": {
    "ExecuteTime": {
     "end_time": "2019-01-22T23:29:34.811646Z",
     "start_time": "2019-01-22T23:28:56.968342Z"
    }
   },
   "outputs": [],
   "source": [
    "# Read the data into data frames.\n",
    "train_images = pd.read_csv('volcanoesvenus/Volcanoes_train/train_images.csv', header=-1)\n",
    "train_labels = pd.read_csv('volcanoesvenus/Volcanoes_train/train_labels.csv')"
   ]
  },
  {
   "cell_type": "code",
   "execution_count": 3,
   "metadata": {
    "ExecuteTime": {
     "end_time": "2019-01-22T23:29:35.966680Z",
     "start_time": "2019-01-22T23:29:35.947766Z"
    }
   },
   "outputs": [
    {
     "data": {
      "text/html": [
       "<div>\n",
       "<style scoped>\n",
       "    .dataframe tbody tr th:only-of-type {\n",
       "        vertical-align: middle;\n",
       "    }\n",
       "\n",
       "    .dataframe tbody tr th {\n",
       "        vertical-align: top;\n",
       "    }\n",
       "\n",
       "    .dataframe thead th {\n",
       "        text-align: right;\n",
       "    }\n",
       "</style>\n",
       "<table border=\"1\" class=\"dataframe\">\n",
       "  <thead>\n",
       "    <tr style=\"text-align: right;\">\n",
       "      <th></th>\n",
       "      <th>Volcano?</th>\n",
       "      <th>Type</th>\n",
       "      <th>Radius</th>\n",
       "      <th>Number Volcanoes</th>\n",
       "    </tr>\n",
       "  </thead>\n",
       "  <tbody>\n",
       "    <tr>\n",
       "      <th>0</th>\n",
       "      <td>1</td>\n",
       "      <td>3.0</td>\n",
       "      <td>17.46</td>\n",
       "      <td>1.0</td>\n",
       "    </tr>\n",
       "    <tr>\n",
       "      <th>1</th>\n",
       "      <td>0</td>\n",
       "      <td>NaN</td>\n",
       "      <td>NaN</td>\n",
       "      <td>NaN</td>\n",
       "    </tr>\n",
       "    <tr>\n",
       "      <th>2</th>\n",
       "      <td>0</td>\n",
       "      <td>NaN</td>\n",
       "      <td>NaN</td>\n",
       "      <td>NaN</td>\n",
       "    </tr>\n",
       "  </tbody>\n",
       "</table>\n",
       "</div>"
      ],
      "text/plain": [
       "   Volcano?  Type  Radius  Number Volcanoes\n",
       "0         1   3.0   17.46               1.0\n",
       "1         0   NaN     NaN               NaN\n",
       "2         0   NaN     NaN               NaN"
      ]
     },
     "execution_count": 3,
     "metadata": {},
     "output_type": "execute_result"
    }
   ],
   "source": [
    "train_labels.head(3)"
   ]
  },
  {
   "cell_type": "code",
   "execution_count": 431,
   "metadata": {
    "ExecuteTime": {
     "end_time": "2019-01-18T02:01:25.405185Z",
     "start_time": "2019-01-18T02:00:59.264205Z"
    }
   },
   "outputs": [],
   "source": [
    "test_images = pd.read_csv('volcanoesvenus/Volcanoes_test/test_images.csv', header=-1)\n",
    "test_labels = pd.read_csv('volcanoesvenus/Volcanoes_test/test_labels.csv')"
   ]
  },
  {
   "cell_type": "code",
   "execution_count": 432,
   "metadata": {
    "ExecuteTime": {
     "end_time": "2019-01-18T02:01:25.425820Z",
     "start_time": "2019-01-18T02:01:25.412054Z"
    }
   },
   "outputs": [
    {
     "name": "stdout",
     "output_type": "stream",
     "text": [
      "(7000, 12100)\n",
      "(2734, 12100)\n"
     ]
    }
   ],
   "source": [
    "# Check the shape\n",
    "print(train_images.shape)\n",
    "print(test_images.shape)"
   ]
  },
  {
   "cell_type": "code",
   "execution_count": 433,
   "metadata": {
    "ExecuteTime": {
     "end_time": "2019-01-18T02:01:25.541299Z",
     "start_time": "2019-01-18T02:01:25.430842Z"
    }
   },
   "outputs": [
    {
     "data": {
      "text/html": [
       "<div>\n",
       "<style scoped>\n",
       "    .dataframe tbody tr th:only-of-type {\n",
       "        vertical-align: middle;\n",
       "    }\n",
       "\n",
       "    .dataframe tbody tr th {\n",
       "        vertical-align: top;\n",
       "    }\n",
       "\n",
       "    .dataframe thead th {\n",
       "        text-align: right;\n",
       "    }\n",
       "</style>\n",
       "<table border=\"1\" class=\"dataframe\">\n",
       "  <thead>\n",
       "    <tr style=\"text-align: right;\">\n",
       "      <th></th>\n",
       "      <th>0</th>\n",
       "      <th>1</th>\n",
       "      <th>2</th>\n",
       "      <th>3</th>\n",
       "      <th>4</th>\n",
       "      <th>5</th>\n",
       "      <th>6</th>\n",
       "      <th>7</th>\n",
       "      <th>8</th>\n",
       "      <th>9</th>\n",
       "      <th>...</th>\n",
       "      <th>12090</th>\n",
       "      <th>12091</th>\n",
       "      <th>12092</th>\n",
       "      <th>12093</th>\n",
       "      <th>12094</th>\n",
       "      <th>12095</th>\n",
       "      <th>12096</th>\n",
       "      <th>12097</th>\n",
       "      <th>12098</th>\n",
       "      <th>12099</th>\n",
       "    </tr>\n",
       "  </thead>\n",
       "  <tbody>\n",
       "    <tr>\n",
       "      <th>0</th>\n",
       "      <td>107</td>\n",
       "      <td>116</td>\n",
       "      <td>108</td>\n",
       "      <td>101</td>\n",
       "      <td>107</td>\n",
       "      <td>109</td>\n",
       "      <td>108</td>\n",
       "      <td>110</td>\n",
       "      <td>100</td>\n",
       "      <td>109</td>\n",
       "      <td>...</td>\n",
       "      <td>111</td>\n",
       "      <td>110</td>\n",
       "      <td>109</td>\n",
       "      <td>109</td>\n",
       "      <td>101</td>\n",
       "      <td>106</td>\n",
       "      <td>106</td>\n",
       "      <td>117</td>\n",
       "      <td>130</td>\n",
       "      <td>134</td>\n",
       "    </tr>\n",
       "    <tr>\n",
       "      <th>1</th>\n",
       "      <td>93</td>\n",
       "      <td>95</td>\n",
       "      <td>98</td>\n",
       "      <td>100</td>\n",
       "      <td>90</td>\n",
       "      <td>100</td>\n",
       "      <td>108</td>\n",
       "      <td>98</td>\n",
       "      <td>90</td>\n",
       "      <td>103</td>\n",
       "      <td>...</td>\n",
       "      <td>86</td>\n",
       "      <td>93</td>\n",
       "      <td>59</td>\n",
       "      <td>88</td>\n",
       "      <td>89</td>\n",
       "      <td>89</td>\n",
       "      <td>92</td>\n",
       "      <td>99</td>\n",
       "      <td>92</td>\n",
       "      <td>113</td>\n",
       "    </tr>\n",
       "    <tr>\n",
       "      <th>2</th>\n",
       "      <td>108</td>\n",
       "      <td>108</td>\n",
       "      <td>92</td>\n",
       "      <td>116</td>\n",
       "      <td>116</td>\n",
       "      <td>140</td>\n",
       "      <td>126</td>\n",
       "      <td>104</td>\n",
       "      <td>112</td>\n",
       "      <td>103</td>\n",
       "      <td>...</td>\n",
       "      <td>118</td>\n",
       "      <td>111</td>\n",
       "      <td>113</td>\n",
       "      <td>107</td>\n",
       "      <td>107</td>\n",
       "      <td>121</td>\n",
       "      <td>141</td>\n",
       "      <td>160</td>\n",
       "      <td>131</td>\n",
       "      <td>138</td>\n",
       "    </tr>\n",
       "    <tr>\n",
       "      <th>3</th>\n",
       "      <td>165</td>\n",
       "      <td>164</td>\n",
       "      <td>156</td>\n",
       "      <td>159</td>\n",
       "      <td>151</td>\n",
       "      <td>120</td>\n",
       "      <td>103</td>\n",
       "      <td>114</td>\n",
       "      <td>114</td>\n",
       "      <td>116</td>\n",
       "      <td>...</td>\n",
       "      <td>69</td>\n",
       "      <td>96</td>\n",
       "      <td>109</td>\n",
       "      <td>91</td>\n",
       "      <td>94</td>\n",
       "      <td>83</td>\n",
       "      <td>48</td>\n",
       "      <td>69</td>\n",
       "      <td>86</td>\n",
       "      <td>75</td>\n",
       "    </tr>\n",
       "    <tr>\n",
       "      <th>4</th>\n",
       "      <td>105</td>\n",
       "      <td>106</td>\n",
       "      <td>84</td>\n",
       "      <td>115</td>\n",
       "      <td>121</td>\n",
       "      <td>103</td>\n",
       "      <td>94</td>\n",
       "      <td>108</td>\n",
       "      <td>103</td>\n",
       "      <td>91</td>\n",
       "      <td>...</td>\n",
       "      <td>92</td>\n",
       "      <td>89</td>\n",
       "      <td>96</td>\n",
       "      <td>89</td>\n",
       "      <td>91</td>\n",
       "      <td>102</td>\n",
       "      <td>99</td>\n",
       "      <td>90</td>\n",
       "      <td>90</td>\n",
       "      <td>73</td>\n",
       "    </tr>\n",
       "  </tbody>\n",
       "</table>\n",
       "<p>5 rows × 12100 columns</p>\n",
       "</div>"
      ],
      "text/plain": [
       "   0      1      2      3      4      5      6      7      8      9      \\\n",
       "0    107    116    108    101    107    109    108    110    100    109   \n",
       "1     93     95     98    100     90    100    108     98     90    103   \n",
       "2    108    108     92    116    116    140    126    104    112    103   \n",
       "3    165    164    156    159    151    120    103    114    114    116   \n",
       "4    105    106     84    115    121    103     94    108    103     91   \n",
       "\n",
       "   ...    12090  12091  12092  12093  12094  12095  12096  12097  12098  12099  \n",
       "0  ...      111    110    109    109    101    106    106    117    130    134  \n",
       "1  ...       86     93     59     88     89     89     92     99     92    113  \n",
       "2  ...      118    111    113    107    107    121    141    160    131    138  \n",
       "3  ...       69     96    109     91     94     83     48     69     86     75  \n",
       "4  ...       92     89     96     89     91    102     99     90     90     73  \n",
       "\n",
       "[5 rows x 12100 columns]"
      ]
     },
     "execution_count": 433,
     "metadata": {},
     "output_type": "execute_result"
    }
   ],
   "source": [
    "test_images.head()"
   ]
  },
  {
   "cell_type": "code",
   "execution_count": 434,
   "metadata": {
    "ExecuteTime": {
     "end_time": "2019-01-18T02:01:39.881966Z",
     "start_time": "2019-01-18T02:01:25.545385Z"
    }
   },
   "outputs": [
    {
     "data": {
      "image/png": "[encoded data removed]",
      "text/plain": [
       "<Figure size 1080x360 with 10 Axes>"
      ]
     },
     "metadata": {},
     "output_type": "display_data"
    }
   ],
   "source": [
    "# Visualize what a positive and negative classification look like.\n",
    "volcano_positive = train_images[train_labels['Volcano?'] == 1].sample(5)\n",
    "volcano_negative = train_images[train_labels['Volcano?'] == 0].sample(5)\n",
    "sns.set_style('white')\n",
    "\n",
    "plt.subplots(figsize = (15, 5))\n",
    "plt.xlabel(None)\n",
    "sns.despine\n",
    "for i in range(5):\n",
    "    plt.subplot(2, 5, i+1)\n",
    "    plt.imshow(volcano_positive.iloc[i, :].values.reshape((110, 110)), cmap='gray')\n",
    "    if i == 0:\n",
    "        plt.ylabel('Volcano')\n",
    "for i in range(5):\n",
    "    plt.subplot(2, 5, i+6)\n",
    "    if i == 0:\n",
    "        plt.ylabel('No Volcano')\n",
    "    plt.imshow(volcano_negative.iloc[i, :].values.reshape((110, 110)), cmap='gray')"
   ]
  },
  {
   "cell_type": "code",
   "execution_count": 435,
   "metadata": {
    "ExecuteTime": {
     "end_time": "2019-01-18T02:01:40.650666Z",
     "start_time": "2019-01-18T02:01:39.888145Z"
    }
   },
   "outputs": [
    {
     "data": {
      "image/png": "[encoded data removed]",
      "text/plain": [
       "<Figure size 432x288 with 1 Axes>"
      ]
     },
     "metadata": {},
     "output_type": "display_data"
    }
   ],
   "source": [
    "# Graph data distribution.\n",
    "sns.set_style('darkgrid')\n",
    "sns.color_palette(\"Paired\")\n",
    "sns.despine\n",
    "\n",
    "legend = ['Training Data', 'Testing Data']\n",
    "plt.hist([y_train, y_test], bins=5)\n",
    "plt.legend(legend)\n",
    "plt.xticks(range(2))\n",
    "plt.show()"
   ]
  },
  {
   "cell_type": "code",
   "execution_count": 436,
   "metadata": {
    "ExecuteTime": {
     "end_time": "2019-01-18T02:01:40.681765Z",
     "start_time": "2019-01-18T02:01:40.657287Z"
    }
   },
   "outputs": [
    {
     "name": "stdout",
     "output_type": "stream",
     "text": [
      "0    6000\n",
      "1    1000\n",
      "Name: Volcano?, dtype: int64\n",
      "0    2300\n",
      "1     434\n",
      "Name: Volcano?, dtype: int64\n"
     ]
    }
   ],
   "source": [
    "# Get value counts.\n",
    "print(y_train.value_counts())\n",
    "print(y_test.value_counts())"
   ]
  },
  {
   "cell_type": "code",
   "execution_count": 437,
   "metadata": {
    "ExecuteTime": {
     "end_time": "2019-01-18T02:02:06.343483Z",
     "start_time": "2019-01-18T02:02:06.331555Z"
    }
   },
   "outputs": [
    {
     "name": "stdout",
     "output_type": "stream",
     "text": [
      "<class 'pandas.core.frame.DataFrame'>\n",
      "RangeIndex: 7000 entries, 0 to 6999\n",
      "Data columns (total 4 columns):\n",
      "Volcano?            7000 non-null int64\n",
      "Type                1000 non-null float64\n",
      "Radius              1000 non-null float64\n",
      "Number Volcanoes    1000 non-null float64\n",
      "dtypes: float64(3), int64(1)\n",
      "memory usage: 218.8 KB\n",
      "None\n"
     ]
    }
   ],
   "source": [
    "print(train_labels.info())"
   ]
  },
  {
   "cell_type": "code",
   "execution_count": 438,
   "metadata": {
    "ExecuteTime": {
     "end_time": "2019-01-18T02:02:18.425349Z",
     "start_time": "2019-01-18T02:02:13.109162Z"
    }
   },
   "outputs": [],
   "source": [
    "X_train = train_images / 255\n",
    "X_test = test_images / 255\n",
    "y_train = train_labels['Volcano?']\n",
    "y_test = test_labels['Volcano?']"
   ]
  },
  {
   "cell_type": "markdown",
   "metadata": {},
   "source": [
    "### Train the Baseline Models"
   ]
  },
  {
   "cell_type": "markdown",
   "metadata": {},
   "source": [
    "#### Random Forest"
   ]
  },
  {
   "cell_type": "code",
   "execution_count": 374,
   "metadata": {
    "ExecuteTime": {
     "end_time": "2019-01-15T01:18:57.362953Z",
     "start_time": "2019-01-15T01:17:42.590963Z"
    }
   },
   "outputs": [
    {
     "data": {
      "text/plain": [
       "RandomForestClassifier(bootstrap=True, class_weight=None, criterion='gini',\n",
       "            max_depth=None, max_features='auto', max_leaf_nodes=None,\n",
       "            min_impurity_decrease=0.0, min_impurity_split=None,\n",
       "            min_samples_leaf=1, min_samples_split=2,\n",
       "            min_weight_fraction_leaf=0.0, n_estimators=100, n_jobs=None,\n",
       "            oob_score=False, random_state=3, verbose=0, warm_start=False)"
      ]
     },
     "execution_count": 374,
     "metadata": {},
     "output_type": "execute_result"
    }
   ],
   "source": [
    "rfc = RandomForestClassifier(n_estimators=100, random_state=3)\n",
    "rfc.fit(X_train, y_train)"
   ]
  },
  {
   "cell_type": "code",
   "execution_count": 385,
   "metadata": {
    "ExecuteTime": {
     "end_time": "2019-01-15T01:32:01.407677Z",
     "start_time": "2019-01-15T01:32:01.391266Z"
    }
   },
   "outputs": [],
   "source": [
    "# Create a function to get performance information for each model.\n",
    "def get_classification_stats(model, X_train, X_test, y_train, y_test):\n",
    "    \n",
    "    print('Accuracy on train data')\n",
    "    print(model.score(X_train, y_train), '\\n')\n",
    "    print('Accuracy on test data')\n",
    "    print(model.score(X_test, y_test), '\\n')\n",
    "    \n",
    "    y_pred_train = model.predict(X_train)\n",
    "    y_pred_test = model.predict(X_test)\n",
    "    \n",
    "    # Confusion Matrix\n",
    "    print('Confusion matrix on training data')\n",
    "    print(confusion_matrix(y_train, y_pred_train))\n",
    "    print('Confusion matrix on testing data')\n",
    "    print(confusion_matrix(y_test, y_pred_test), '\\n')\n",
    "\n",
    "    # Recall/Sensitivity\n",
    "    print('Recall score on training data')\n",
    "    print(recall_score(y_train, y_pred_train))\n",
    "    print('Recall score on testing data')\n",
    "    print(recall_score(y_test, y_pred_test), '\\n')\n",
    "\n",
    "    # Specificity\n",
    "    print('Specificity on training data')\n",
    "    print(confusion_matrix(y_train, y_pred_train)[0][0] / \n",
    "          (confusion_matrix(y_train, y_pred_train)[0][0] + confusion_matrix(y_train, y_pred_train)[0][1]))\n",
    "    print('Specificity on testing data')\n",
    "    print(confusion_matrix(y_test, y_pred_test)[0][0] / \n",
    "          (confusion_matrix(y_test, y_pred_test)[0][0] + confusion_matrix(y_test, y_pred_test)[0][1]), '\\n')\n",
    "    # Precision\n",
    "    print('Precision score on training data')\n",
    "    print(precision_score(y_train, y_pred_train))\n",
    "    print('Precision score on testing data')\n",
    "    print(precision_score(y_test, y_pred_test), '\\n')\n",
    "\n",
    "    # F1 Score\n",
    "    print('F1 score on training data')\n",
    "    print(f1_score(y_train, y_pred_train))\n",
    "    print('F1 score on testing data')\n",
    "    print(f1_score(y_test, y_pred_test))\n",
    "    \n",
    "    return None"
   ]
  },
  {
   "cell_type": "code",
   "execution_count": 386,
   "metadata": {
    "ExecuteTime": {
     "end_time": "2019-01-15T01:32:09.074746Z",
     "start_time": "2019-01-15T01:32:03.243831Z"
    }
   },
   "outputs": [
    {
     "name": "stdout",
     "output_type": "stream",
     "text": [
      "Accuracy on train data\n",
      "1.0 \n",
      "\n",
      "Accuracy on test data\n",
      "0.908558888076079 \n",
      "\n",
      "Confusion matrix on training data\n",
      "[[6000    0]\n",
      " [   0 1000]]\n",
      "Confusion matrix on testing data\n",
      "[[2283   17]\n",
      " [ 233  201]] \n",
      "\n",
      "Recall score on training data\n",
      "1.0\n",
      "Recall score on testing data\n",
      "0.4631336405529954 \n",
      "\n",
      "Specificity on training data\n",
      "1.0\n",
      "Specificity on testing data\n",
      "0.9926086956521739 \n",
      "\n",
      "Precision score on training data\n",
      "1.0\n",
      "Precision score on testing data\n",
      "0.9220183486238532 \n",
      "\n",
      "F1 score on training data\n",
      "1.0\n",
      "F1 score on testing data\n",
      "0.6165644171779141\n"
     ]
    }
   ],
   "source": [
    "get_classification_stats(rfc, X_train, X_test, y_train, y_test)"
   ]
  },
  {
   "cell_type": "markdown",
   "metadata": {},
   "source": [
    "#### Gradient Boosting"
   ]
  },
  {
   "cell_type": "code",
   "execution_count": 378,
   "metadata": {
    "ExecuteTime": {
     "end_time": "2019-01-15T01:28:02.051759Z",
     "start_time": "2019-01-15T01:22:49.724257Z"
    },
    "scrolled": true
   },
   "outputs": [
    {
     "data": {
      "text/plain": [
       "GradientBoostingClassifier(criterion='friedman_mse', init=None,\n",
       "              learning_rate=0.1, loss='deviance', max_depth=3,\n",
       "              max_features=None, max_leaf_nodes=None,\n",
       "              min_impurity_decrease=0.0, min_impurity_split=None,\n",
       "              min_samples_leaf=1, min_samples_split=2,\n",
       "              min_weight_fraction_leaf=0.0, n_estimators=100,\n",
       "              n_iter_no_change=None, presort='auto', random_state=3,\n",
       "              subsample=1, tol=0.0001, validation_fraction=0.1, verbose=0,\n",
       "              warm_start=False)"
      ]
     },
     "execution_count": 378,
     "metadata": {},
     "output_type": "execute_result"
    }
   ],
   "source": [
    "params = {'n_estimators': 100,\n",
    "          'max_depth': 3,\n",
    "          'loss': 'deviance',\n",
    "          'subsample': 1}\n",
    "\n",
    "gboost_clf = GradientBoostingClassifier(**params, random_state=3)\n",
    "gboost_clf.fit(X_train, y_train)"
   ]
  },
  {
   "cell_type": "code",
   "execution_count": 387,
   "metadata": {
    "ExecuteTime": {
     "end_time": "2019-01-15T01:32:27.410578Z",
     "start_time": "2019-01-15T01:32:22.640841Z"
    }
   },
   "outputs": [
    {
     "name": "stdout",
     "output_type": "stream",
     "text": [
      "Accuracy on train data\n",
      "0.9655714285714285 \n",
      "\n",
      "Accuracy on test data\n",
      "0.923555230431602 \n",
      "\n",
      "Confusion matrix on training data\n",
      "[[5991    9]\n",
      " [ 232  768]]\n",
      "Confusion matrix on testing data\n",
      "[[2278   22]\n",
      " [ 187  247]] \n",
      "\n",
      "Recall score on training data\n",
      "0.768\n",
      "Recall score on testing data\n",
      "0.5691244239631337 \n",
      "\n",
      "Specificity on training data\n",
      "0.9985\n",
      "Specificity on testing data\n",
      "0.9904347826086957 \n",
      "\n",
      "Precision score on training data\n",
      "0.9884169884169884\n",
      "Precision score on testing data\n",
      "0.9182156133828996 \n",
      "\n",
      "F1 score on training data\n",
      "0.8643781654473833\n",
      "F1 score on testing data\n",
      "0.7027027027027027\n"
     ]
    }
   ],
   "source": [
    "get_classification_stats(gboost_clf, X_train, X_test, y_train, y_test)"
   ]
  },
  {
   "cell_type": "markdown",
   "metadata": {},
   "source": [
    "#### XGBoost"
   ]
  },
  {
   "cell_type": "code",
   "execution_count": 388,
   "metadata": {
    "ExecuteTime": {
     "end_time": "2019-01-15T01:46:36.766682Z",
     "start_time": "2019-01-15T01:34:57.520631Z"
    },
    "scrolled": false
   },
   "outputs": [
    {
     "data": {
      "text/plain": [
       "XGBClassifier(base_score=0.5, booster='gbtree', colsample_bylevel=1,\n",
       "       colsample_bytree=1, gamma=0, learning_rate=0.1, max_delta_step=0,\n",
       "       max_depth=3, min_child_weight=1, missing=None, n_estimators=100,\n",
       "       n_jobs=1, nthread=None, objective='binary:logistic', random_state=3,\n",
       "       reg_alpha=0, reg_lambda=1, scale_pos_weight=1, seed=None,\n",
       "       silent=True, subsample=1)"
      ]
     },
     "execution_count": 388,
     "metadata": {},
     "output_type": "execute_result"
    }
   ],
   "source": [
    "xgb = XGBClassifier(random_state=3)\n",
    "xgb.fit(X_train, y_train)"
   ]
  },
  {
   "cell_type": "code",
   "execution_count": 389,
   "metadata": {
    "ExecuteTime": {
     "end_time": "2019-01-15T01:47:17.038298Z",
     "start_time": "2019-01-15T01:46:36.785925Z"
    }
   },
   "outputs": [
    {
     "name": "stdout",
     "output_type": "stream",
     "text": [
      "Accuracy on train data\n",
      "0.969 \n",
      "\n",
      "Accuracy on test data\n",
      "0.9261155815654718 \n",
      "\n",
      "Confusion matrix on training data\n",
      "[[5991    9]\n",
      " [ 208  792]]\n",
      "Confusion matrix on testing data\n",
      "[[2278   22]\n",
      " [ 180  254]] \n",
      "\n",
      "Recall score on training data\n",
      "0.792\n",
      "Recall score on testing data\n",
      "0.5852534562211982 \n",
      "\n",
      "Specificity on training data\n",
      "0.9985\n",
      "Specificity on testing data\n",
      "0.9904347826086957 \n",
      "\n",
      "Precision score on training data\n",
      "0.9887640449438202\n",
      "Precision score on testing data\n",
      "0.9202898550724637 \n",
      "\n",
      "F1 score on training data\n",
      "0.8795113825652415\n",
      "F1 score on testing data\n",
      "0.7154929577464789\n"
     ]
    }
   ],
   "source": [
    "get_classification_stats(xgb, X_train, X_test, y_train, y_test)"
   ]
  },
  {
   "cell_type": "markdown",
   "metadata": {},
   "source": [
    "#### Ridge Regression"
   ]
  },
  {
   "cell_type": "code",
   "execution_count": 181,
   "metadata": {
    "ExecuteTime": {
     "end_time": "2019-01-12T19:34:47.204991Z",
     "start_time": "2019-01-12T19:30:03.086617Z"
    },
    "scrolled": false
   },
   "outputs": [
    {
     "name": "stdout",
     "output_type": "stream",
     "text": [
      "######################################## \n",
      "\n",
      "Lambda is 1.0\n",
      "R-squared on training data for ridge regression:\n",
      "0.9985714285714286 \n",
      "\n",
      "R-squared on test data for ridge regression:\n",
      "0.9268471104608632 \n",
      "\n",
      "######################################## \n",
      "\n",
      "Lambda is 0.1\n",
      "R-squared on training data for ridge regression:\n",
      "1.0 \n",
      "\n",
      "R-squared on test data for ridge regression:\n",
      "0.9264813460131676 \n",
      "\n",
      "######################################## \n",
      "\n",
      "Lambda is 0.01\n",
      "R-squared on training data for ridge regression:\n",
      "1.0 \n",
      "\n",
      "R-squared on test data for ridge regression:\n",
      "0.9268471104608632 \n",
      "\n",
      "######################################## \n",
      "\n",
      "Lambda is 0.001\n",
      "R-squared on training data for ridge regression:\n",
      "1.0 \n",
      "\n",
      "R-squared on test data for ridge regression:\n",
      "0.9257498171177762 \n",
      "\n",
      "######################################## \n",
      "\n",
      "Lambda is 0.0001\n",
      "R-squared on training data for ridge regression:\n",
      "1.0 \n",
      "\n",
      "R-squared on test data for ridge regression:\n",
      "0.9257498171177762 \n",
      "\n"
     ]
    }
   ],
   "source": [
    "# Train a ridge regression model with different regularization penalties.\n",
    "for i in [1, 10, 100, 1000, 10000]:\n",
    "    ridgeregr = linear_model.LogisticRegression(\n",
    "        penalty='l2', fit_intercept=True, C=i)\n",
    "    ridgeregr.fit(X_train, y_train)\n",
    "\n",
    "    print(40 * '#', '\\n')\n",
    "    print('Lambda is {}'.format(1/i))\n",
    "    print('Accuracy on training data for ridge regression:')\n",
    "    print(ridgeregr.score(X_train, y_train), '\\n')\n",
    "    print('Accuracy on test data for ridge regression:')\n",
    "    print(ridgeregr.score(X_test, y_test), '\\n')"
   ]
  },
  {
   "cell_type": "code",
   "execution_count": 390,
   "metadata": {
    "ExecuteTime": {
     "end_time": "2019-01-15T01:50:56.237541Z",
     "start_time": "2019-01-15T01:49:36.088063Z"
    }
   },
   "outputs": [
    {
     "data": {
      "text/plain": [
       "LogisticRegression(C=100, class_weight=None, dual=False, fit_intercept=True,\n",
       "          intercept_scaling=1, max_iter=100, multi_class='warn',\n",
       "          n_jobs=None, penalty='l2', random_state=3, solver='warn',\n",
       "          tol=0.0001, verbose=0, warm_start=False)"
      ]
     },
     "execution_count": 390,
     "metadata": {},
     "output_type": "execute_result"
    }
   ],
   "source": [
    "# Choose the best one.\n",
    "ridgeregr = linear_model.LogisticRegression(penalty='l2', fit_intercept=True, C=100, random_state=3)\n",
    "ridgeregr.fit(X_train, y_train)"
   ]
  },
  {
   "cell_type": "code",
   "execution_count": 391,
   "metadata": {
    "ExecuteTime": {
     "end_time": "2019-01-15T01:51:01.000444Z",
     "start_time": "2019-01-15T01:50:58.017889Z"
    }
   },
   "outputs": [
    {
     "name": "stdout",
     "output_type": "stream",
     "text": [
      "Accuracy on train data\n",
      "1.0 \n",
      "\n",
      "Accuracy on test data\n",
      "0.9268471104608632 \n",
      "\n",
      "Confusion matrix on training data\n",
      "[[6000    0]\n",
      " [   0 1000]]\n",
      "Confusion matrix on testing data\n",
      "[[2249   51]\n",
      " [ 149  285]] \n",
      "\n",
      "Recall score on training data\n",
      "1.0\n",
      "Recall score on testing data\n",
      "0.6566820276497696 \n",
      "\n",
      "Specificity on training data\n",
      "1.0\n",
      "Specificity on testing data\n",
      "0.9778260869565217 \n",
      "\n",
      "Precision score on training data\n",
      "1.0\n",
      "Precision score on testing data\n",
      "0.8482142857142857 \n",
      "\n",
      "F1 score on training data\n",
      "1.0\n",
      "F1 score on testing data\n",
      "0.7402597402597404\n"
     ]
    }
   ],
   "source": [
    "get_classification_stats(ridgeregr, X_train, X_test, y_train, y_test)"
   ]
  },
  {
   "cell_type": "markdown",
   "metadata": {},
   "source": [
    "#### Lasso Regression"
   ]
  },
  {
   "cell_type": "code",
   "execution_count": 182,
   "metadata": {
    "ExecuteTime": {
     "end_time": "2019-01-12T19:39:01.082321Z",
     "start_time": "2019-01-12T19:34:47.288099Z"
    },
    "scrolled": false
   },
   "outputs": [
    {
     "name": "stdout",
     "output_type": "stream",
     "text": [
      "######################################## \n",
      "\n",
      "Lambda is 10.0\n",
      "R-squared on training data for lasso regression:\n",
      "0.9142857142857143 \n",
      "\n",
      "R-squared on test data for lasso regression:\n",
      "0.8975859546452085 \n",
      "\n",
      "######################################## \n",
      "\n",
      "Lambda is 1.0\n",
      "R-squared on training data for lasso regression:\n",
      "0.9704285714285714 \n",
      "\n",
      "R-squared on test data for lasso regression:\n",
      "0.929407461594733 \n",
      "\n",
      "######################################## \n",
      "\n",
      "Lambda is 0.1\n",
      "R-squared on training data for lasso regression:\n",
      "1.0 \n",
      "\n",
      "R-squared on test data for lasso regression:\n",
      "0.9213606437454279 \n",
      "\n",
      "######################################## \n",
      "\n",
      "Lambda is 0.01\n",
      "R-squared on training data for lasso regression:\n",
      "1.0 \n",
      "\n",
      "R-squared on test data for lasso regression:\n",
      "0.9228237015362106 \n",
      "\n",
      "######################################## \n",
      "\n",
      "Lambda is 0.001\n",
      "R-squared on training data for lasso regression:\n",
      "1.0 \n",
      "\n",
      "R-squared on test data for lasso regression:\n",
      "0.9231894659839064 \n",
      "\n",
      "######################################## \n",
      "\n",
      "Lambda is 0.0001\n",
      "R-squared on training data for lasso regression:\n",
      "1.0 \n",
      "\n",
      "R-squared on test data for lasso regression:\n",
      "0.9253840526700805 \n",
      "\n"
     ]
    }
   ],
   "source": [
    "for i in [.1, 1, 10, 100, 1000, 10000]:\n",
    "    lass = linear_model.LogisticRegression(\n",
    "        penalty='l1', fit_intercept=False, C=i)\n",
    "    lass.fit(X_train, y_train)\n",
    "\n",
    "    print(40 * '#', '\\n')\n",
    "    print('Lambda is {}'.format(1/i))\n",
    "    print('Accuracy on training data for lasso regression:')\n",
    "    print(lass.score(X_train, y_train), '\\n')\n",
    "    print('Accuracy on test data for lasso regression:')\n",
    "    print(lass.score(X_test, y_test), '\\n')"
   ]
  },
  {
   "cell_type": "code",
   "execution_count": 392,
   "metadata": {
    "ExecuteTime": {
     "end_time": "2019-01-15T01:53:06.266859Z",
     "start_time": "2019-01-15T01:52:32.641598Z"
    },
    "scrolled": true
   },
   "outputs": [
    {
     "data": {
      "text/plain": [
       "LogisticRegression(C=1, class_weight=None, dual=False, fit_intercept=False,\n",
       "          intercept_scaling=1, max_iter=100, multi_class='warn',\n",
       "          n_jobs=None, penalty='l1', random_state=3, solver='warn',\n",
       "          tol=0.0001, verbose=0, warm_start=False)"
      ]
     },
     "execution_count": 392,
     "metadata": {},
     "output_type": "execute_result"
    }
   ],
   "source": [
    "lass = linear_model.LogisticRegression(penalty='l1', fit_intercept=False, C=1, random_state=3)\n",
    "lass.fit(X_train, y_train)"
   ]
  },
  {
   "cell_type": "code",
   "execution_count": 394,
   "metadata": {
    "ExecuteTime": {
     "end_time": "2019-01-15T01:53:53.780179Z",
     "start_time": "2019-01-15T01:53:53.304191Z"
    }
   },
   "outputs": [
    {
     "name": "stdout",
     "output_type": "stream",
     "text": [
      "Accuracy on train data\n",
      "0.9702857142857143 \n",
      "\n",
      "Accuracy on test data\n",
      "0.9283101682516459 \n",
      "\n",
      "Confusion matrix on training data\n",
      "[[5983   17]\n",
      " [ 191  809]]\n",
      "Confusion matrix on testing data\n",
      "[[2258   42]\n",
      " [ 154  280]] \n",
      "\n",
      "Recall score on training data\n",
      "0.809\n",
      "Recall score on testing data\n",
      "0.6451612903225806 \n",
      "\n",
      "Specificity on training data\n",
      "0.9971666666666666\n",
      "Specificity on testing data\n",
      "0.9817391304347826 \n",
      "\n",
      "Precision score on training data\n",
      "0.9794188861985472\n",
      "Precision score on testing data\n",
      "0.8695652173913043 \n",
      "\n",
      "F1 score on training data\n",
      "0.8860898138006572\n",
      "F1 score on testing data\n",
      "0.7407407407407407\n"
     ]
    }
   ],
   "source": [
    "get_classification_stats(lass, X_train, X_test, y_train, y_test)"
   ]
  },
  {
   "cell_type": "markdown",
   "metadata": {},
   "source": [
    "#### Logistic Regression"
   ]
  },
  {
   "cell_type": "code",
   "execution_count": 395,
   "metadata": {
    "ExecuteTime": {
     "end_time": "2019-01-15T01:56:28.910431Z",
     "start_time": "2019-01-15T01:55:11.280044Z"
    },
    "scrolled": false
   },
   "outputs": [],
   "source": [
    "lr = linear_model.LogisticRegression(fit_intercept=False, random_state=3)\n",
    "lr.fit(X_train, y_train)"
   ]
  },
  {
   "cell_type": "code",
   "execution_count": 396,
   "metadata": {
    "ExecuteTime": {
     "end_time": "2019-01-15T01:56:40.959333Z",
     "start_time": "2019-01-15T01:56:37.120563Z"
    }
   },
   "outputs": [
    {
     "name": "stdout",
     "output_type": "stream",
     "text": [
      "Accuracy on train data\n",
      "0.9981428571428571 \n",
      "\n",
      "Accuracy on test data\n",
      "0.9250182882223847 \n",
      "\n",
      "Confusion matrix on training data\n",
      "[[6000    0]\n",
      " [  13  987]]\n",
      "Confusion matrix on testing data\n",
      "[[2254   46]\n",
      " [ 159  275]] \n",
      "\n",
      "Recall score on training data\n",
      "0.987\n",
      "Recall score on testing data\n",
      "0.6336405529953917 \n",
      "\n",
      "Specificity on training data\n",
      "1.0\n",
      "Specificity on testing data\n",
      "0.98 \n",
      "\n",
      "Precision score on training data\n",
      "1.0\n",
      "Precision score on testing data\n",
      "0.8566978193146417 \n",
      "\n",
      "F1 score on training data\n",
      "0.9934574735782586\n",
      "F1 score on testing data\n",
      "0.7284768211920529\n"
     ]
    }
   ],
   "source": [
    "get_classification_stats(lr, X_train, X_test, y_train, y_test)"
   ]
  },
  {
   "cell_type": "markdown",
   "metadata": {
    "ExecuteTime": {
     "end_time": "2019-01-12T03:01:12.574175Z",
     "start_time": "2019-01-12T03:01:12.569390Z"
    }
   },
   "source": [
    "#### Support Vector Machines"
   ]
  },
  {
   "cell_type": "code",
   "execution_count": 422,
   "metadata": {
    "ExecuteTime": {
     "end_time": "2019-01-17T12:47:44.285325Z",
     "start_time": "2019-01-17T12:43:16.796751Z"
    }
   },
   "outputs": [
    {
     "data": {
      "text/plain": [
       "SVC(C=1.0, cache_size=200, class_weight=None, coef0=0.0,\n",
       "  decision_function_shape='ovr', degree=3, gamma='auto_deprecated',\n",
       "  kernel='linear', max_iter=-1, probability=False, random_state=3,\n",
       "  shrinking=True, tol=0.001, verbose=False)"
      ]
     },
     "execution_count": 422,
     "metadata": {},
     "output_type": "execute_result"
    }
   ],
   "source": [
    "# Kernel must be linear to accomodate for n < p\n",
    "svm = SVC(random_state=3, kernel='linear')\n",
    "svm.fit(X_train, y_train)"
   ]
  },
  {
   "cell_type": "code",
   "execution_count": 423,
   "metadata": {
    "ExecuteTime": {
     "end_time": "2019-01-17T12:59:31.547830Z",
     "start_time": "2019-01-17T12:47:46.731788Z"
    }
   },
   "outputs": [
    {
     "name": "stdout",
     "output_type": "stream",
     "text": [
      "Accuracy on train data\n",
      "1.0 \n",
      "\n",
      "Accuracy on test data\n",
      "0.9173372348207754 \n",
      "\n",
      "Confusion matrix on training data\n",
      "[[6000    0]\n",
      " [   0 1000]]\n",
      "Confusion matrix on testing data\n",
      "[[2221   79]\n",
      " [ 147  287]] \n",
      "\n",
      "Recall score on training data\n",
      "1.0\n",
      "Recall score on testing data\n",
      "0.6612903225806451 \n",
      "\n",
      "Specificity on training data\n",
      "1.0\n",
      "Specificity on testing data\n",
      "0.9656521739130435 \n",
      "\n",
      "Precision score on training data\n",
      "1.0\n",
      "Precision score on testing data\n",
      "0.7841530054644809 \n",
      "\n",
      "F1 score on training data\n",
      "1.0\n",
      "F1 score on testing data\n",
      "0.7174999999999999\n"
     ]
    }
   ],
   "source": [
    "get_classification_stats(svm, X_train, X_test, y_train, y_test)"
   ]
  },
  {
   "cell_type": "markdown",
   "metadata": {},
   "source": [
    "### PCA"
   ]
  },
  {
   "cell_type": "code",
   "execution_count": 403,
   "metadata": {
    "ExecuteTime": {
     "end_time": "2019-01-15T02:26:26.407190Z",
     "start_time": "2019-01-15T02:26:13.230507Z"
    }
   },
   "outputs": [],
   "source": [
    "# Reduce the entire image array to just 7 features.\n",
    "pca = PCA(n_components=7, random_state=3)\n",
    "train_principal_components = pca.fit_transform(X_train)\n",
    "test_principal_components = pca.fit_transform(X_test)"
   ]
  },
  {
   "cell_type": "markdown",
   "metadata": {},
   "source": [
    "#### RF with PCA"
   ]
  },
  {
   "cell_type": "code",
   "execution_count": 404,
   "metadata": {
    "ExecuteTime": {
     "end_time": "2019-01-15T02:26:30.012984Z",
     "start_time": "2019-01-15T02:26:27.833869Z"
    }
   },
   "outputs": [
    {
     "data": {
      "text/plain": [
       "RandomForestClassifier(bootstrap=True, class_weight=None, criterion='gini',\n",
       "            max_depth=None, max_features='auto', max_leaf_nodes=None,\n",
       "            min_impurity_decrease=0.0, min_impurity_split=None,\n",
       "            min_samples_leaf=1, min_samples_split=2,\n",
       "            min_weight_fraction_leaf=0.0, n_estimators=100, n_jobs=None,\n",
       "            oob_score=False, random_state=3, verbose=0, warm_start=False)"
      ]
     },
     "execution_count": 404,
     "metadata": {},
     "output_type": "execute_result"
    }
   ],
   "source": [
    "rfc_PCA = RandomForestClassifier(n_estimators=100, random_state=3)\n",
    "rfc_PCA.fit(train_principal_components, y_train)"
   ]
  },
  {
   "cell_type": "code",
   "execution_count": 405,
   "metadata": {
    "ExecuteTime": {
     "end_time": "2019-01-15T02:26:31.795156Z",
     "start_time": "2019-01-15T02:26:31.386726Z"
    }
   },
   "outputs": [
    {
     "name": "stdout",
     "output_type": "stream",
     "text": [
      "Accuracy on train data\n",
      "1.0 \n",
      "\n",
      "Accuracy on test data\n",
      "0.8544257498171178 \n",
      "\n",
      "Confusion matrix on training data\n",
      "[[6000    0]\n",
      " [   0 1000]]\n",
      "Confusion matrix on testing data\n",
      "[[2251   49]\n",
      " [ 349   85]] \n",
      "\n",
      "Recall score on training data\n",
      "1.0\n",
      "Recall score on testing data\n",
      "0.195852534562212 \n",
      "\n",
      "Specificity on training data\n",
      "1.0\n",
      "Specificity on testing data\n",
      "0.9786956521739131 \n",
      "\n",
      "Precision score on training data\n",
      "1.0\n",
      "Precision score on testing data\n",
      "0.6343283582089553 \n",
      "\n",
      "F1 score on training data\n",
      "1.0\n",
      "F1 score on testing data\n",
      "0.29929577464788737\n"
     ]
    }
   ],
   "source": [
    "get_classification_stats(rfc_PCA, train_principal_components, test_principal_compenents, y_train, y_test)"
   ]
  },
  {
   "cell_type": "markdown",
   "metadata": {},
   "source": [
    "#### Gradient Boosting with PCA"
   ]
  },
  {
   "cell_type": "code",
   "execution_count": 406,
   "metadata": {
    "ExecuteTime": {
     "end_time": "2019-01-15T02:27:47.911419Z",
     "start_time": "2019-01-15T02:27:44.370996Z"
    }
   },
   "outputs": [
    {
     "data": {
      "text/plain": [
       "GradientBoostingClassifier(criterion='friedman_mse', init=None,\n",
       "              learning_rate=0.1, loss='deviance', max_depth=2,\n",
       "              max_features=None, max_leaf_nodes=None,\n",
       "              min_impurity_decrease=0.0, min_impurity_split=None,\n",
       "              min_samples_leaf=1, min_samples_split=2,\n",
       "              min_weight_fraction_leaf=0.0, n_estimators=500,\n",
       "              n_iter_no_change=None, presort='auto', random_state=3,\n",
       "              subsample=1, tol=0.0001, validation_fraction=0.1, verbose=0,\n",
       "              warm_start=False)"
      ]
     },
     "execution_count": 406,
     "metadata": {},
     "output_type": "execute_result"
    }
   ],
   "source": [
    "params = {'n_estimators': 500,\n",
    "          'max_depth': 2,\n",
    "          'loss': 'deviance',\n",
    "          'subsample': 1}\n",
    "\n",
    "gboost_clf_pca = GradientBoostingClassifier(**params, random_state=3)\n",
    "gboost_clf_pca.fit(train_principal_components, y_train)"
   ]
  },
  {
   "cell_type": "code",
   "execution_count": 407,
   "metadata": {
    "ExecuteTime": {
     "end_time": "2019-01-15T02:28:13.259889Z",
     "start_time": "2019-01-15T02:28:13.104694Z"
    }
   },
   "outputs": [
    {
     "name": "stdout",
     "output_type": "stream",
     "text": [
      "Accuracy on train data\n",
      "0.8924285714285715 \n",
      "\n",
      "Accuracy on test data\n",
      "0.8452816386247257 \n",
      "\n",
      "Confusion matrix on training data\n",
      "[[5952   48]\n",
      " [ 705  295]]\n",
      "Confusion matrix on testing data\n",
      "[[2226   74]\n",
      " [ 349   85]] \n",
      "\n",
      "Recall score on training data\n",
      "0.295\n",
      "Recall score on testing data\n",
      "0.195852534562212 \n",
      "\n",
      "Specificity on training data\n",
      "0.992\n",
      "Specificity on testing data\n",
      "0.9678260869565217 \n",
      "\n",
      "Precision score on training data\n",
      "0.8600583090379009\n",
      "Precision score on testing data\n",
      "0.5345911949685535 \n",
      "\n",
      "F1 score on training data\n",
      "0.43931496649292623\n",
      "F1 score on testing data\n",
      "0.2866779089376054\n"
     ]
    }
   ],
   "source": [
    "get_classification_stats(gboost_clf_pca, train_principal_components,\n",
    "                         test_principal_components, y_train, y_test)"
   ]
  },
  {
   "cell_type": "markdown",
   "metadata": {},
   "source": [
    "#### XGBoost with PCA"
   ]
  },
  {
   "cell_type": "code",
   "execution_count": 408,
   "metadata": {
    "ExecuteTime": {
     "end_time": "2019-01-15T02:29:50.900810Z",
     "start_time": "2019-01-15T02:29:49.770633Z"
    }
   },
   "outputs": [
    {
     "data": {
      "text/plain": [
       "XGBClassifier(base_score=0.5, booster='gbtree', colsample_bylevel=1,\n",
       "       colsample_bytree=1, gamma=0, learning_rate=0.1, max_delta_step=0,\n",
       "       max_depth=3, min_child_weight=1, missing=None, n_estimators=100,\n",
       "       n_jobs=1, nthread=None, objective='binary:logistic', random_state=3,\n",
       "       reg_alpha=0, reg_lambda=1, scale_pos_weight=1, seed=None,\n",
       "       silent=True, subsample=1)"
      ]
     },
     "execution_count": 408,
     "metadata": {},
     "output_type": "execute_result"
    }
   ],
   "source": [
    "xgb_pca = XGBClassifier(random_state=3)\n",
    "xgb_pca.fit(train_principal_components, y_train)"
   ]
  },
  {
   "cell_type": "code",
   "execution_count": 409,
   "metadata": {
    "ExecuteTime": {
     "end_time": "2019-01-15T02:30:10.331538Z",
     "start_time": "2019-01-15T02:30:10.209762Z"
    }
   },
   "outputs": [
    {
     "name": "stdout",
     "output_type": "stream",
     "text": [
      "Accuracy on train data\n",
      "0.8782857142857143 \n",
      "\n",
      "Accuracy on test data\n",
      "0.8511338697878567 \n",
      "\n",
      "Confusion matrix on training data\n",
      "[[5945   55]\n",
      " [ 797  203]]\n",
      "Confusion matrix on testing data\n",
      "[[2263   37]\n",
      " [ 370   64]] \n",
      "\n",
      "Recall score on training data\n",
      "0.203\n",
      "Recall score on testing data\n",
      "0.14746543778801843 \n",
      "\n",
      "Specificity on training data\n",
      "0.9908333333333333\n",
      "Specificity on testing data\n",
      "0.9839130434782609 \n",
      "\n",
      "Precision score on training data\n",
      "0.7868217054263565\n",
      "Precision score on testing data\n",
      "0.6336633663366337 \n",
      "\n",
      "F1 score on training data\n",
      "0.32273449920508746\n",
      "F1 score on testing data\n",
      "0.23925233644859814\n"
     ]
    }
   ],
   "source": [
    "get_classification_stats(xgb_pca, train_principal_components,\n",
    "                         test_principal_components, y_train, y_test)"
   ]
  },
  {
   "cell_type": "markdown",
   "metadata": {},
   "source": [
    "#### PCA Ridge"
   ]
  },
  {
   "cell_type": "code",
   "execution_count": 324,
   "metadata": {
    "ExecuteTime": {
     "end_time": "2019-01-13T21:49:51.988270Z",
     "start_time": "2019-01-13T21:49:51.844576Z"
    }
   },
   "outputs": [
    {
     "name": "stdout",
     "output_type": "stream",
     "text": [
      "######################################## \n",
      "\n",
      "Lambda is 1.0\n",
      "Accuracy on PCA train data for ridge regression:\n",
      "0.8544285714285714 \n",
      "\n",
      "Accuracy on PCA test data for ridge regression:\n",
      "0.8361375274323336 \n",
      "\n",
      "######################################## \n",
      "\n",
      "Lambda is 0.1\n",
      "Accuracy on PCA train data for ridge regression:\n",
      "0.8544285714285714 \n",
      "\n",
      "Accuracy on PCA test data for ridge regression:\n",
      "0.8361375274323336 \n",
      "\n",
      "######################################## \n",
      "\n",
      "Lambda is 0.01\n",
      "Accuracy on PCA train data for ridge regression:\n",
      "0.8544285714285714 \n",
      "\n",
      "Accuracy on PCA test data for ridge regression:\n",
      "0.8361375274323336 \n",
      "\n",
      "######################################## \n",
      "\n",
      "Lambda is 0.001\n",
      "Accuracy on PCA train data for ridge regression:\n",
      "0.8544285714285714 \n",
      "\n",
      "Accuracy on PCA test data for ridge regression:\n",
      "0.8361375274323336 \n",
      "\n",
      "######################################## \n",
      "\n",
      "Lambda is 0.0001\n",
      "Accuracy on PCA train data for ridge regression:\n",
      "0.8544285714285714 \n",
      "\n",
      "Accuracy on PCA test data for ridge regression:\n",
      "0.8361375274323336 \n",
      "\n"
     ]
    }
   ],
   "source": [
    "for i in [1, 10, 100, 1000, 10000]:\n",
    "    ridgeregr_pca = linear_model.LogisticRegression(penalty='l2', fit_intercept=True, C=i)\n",
    "    ridgeregr_pca.fit(train_principal_components, y_train)\n",
    "    \n",
    "    print(40 * '#', '\\n')    \n",
    "    print('Lambda is {}'.format(1/i))\n",
    "    print('Accuracy on PCA train data for ridge regression:')\n",
    "    print(ridgeregr_pca.score(train_principal_components, y_train), '\\n')\n",
    "    print('Accuracy on PCA test data for ridge regression:')\n",
    "    print(ridgeregr_pca.score(test_principal_compenents, y_test), '\\n')"
   ]
  },
  {
   "cell_type": "code",
   "execution_count": 410,
   "metadata": {
    "ExecuteTime": {
     "end_time": "2019-01-15T02:31:37.605332Z",
     "start_time": "2019-01-15T02:31:37.473403Z"
    }
   },
   "outputs": [
    {
     "data": {
      "text/plain": [
       "LogisticRegression(C=1, class_weight=None, dual=False, fit_intercept=True,\n",
       "          intercept_scaling=1, max_iter=100, multi_class='warn',\n",
       "          n_jobs=None, penalty='l2', random_state=3, solver='warn',\n",
       "          tol=0.0001, verbose=0, warm_start=False)"
      ]
     },
     "execution_count": 410,
     "metadata": {},
     "output_type": "execute_result"
    }
   ],
   "source": [
    "ridgeregr_pca = linear_model.LogisticRegression(penalty='l2', fit_intercept=True, C=1, random_state=3)\n",
    "ridgeregr_pca.fit(train_principal_components, y_train)"
   ]
  },
  {
   "cell_type": "code",
   "execution_count": 411,
   "metadata": {
    "ExecuteTime": {
     "end_time": "2019-01-15T02:31:58.618326Z",
     "start_time": "2019-01-15T02:31:58.549335Z"
    }
   },
   "outputs": [
    {
     "name": "stdout",
     "output_type": "stream",
     "text": [
      "Accuracy on train data\n",
      "0.8544285714285714 \n",
      "\n",
      "Accuracy on test data\n",
      "0.8361375274323336 \n",
      "\n",
      "Confusion matrix on training data\n",
      "[[5950   50]\n",
      " [ 969   31]]\n",
      "Confusion matrix on testing data\n",
      "[[2271   29]\n",
      " [ 419   15]] \n",
      "\n",
      "Recall score on training data\n",
      "0.031\n",
      "Recall score on testing data\n",
      "0.03456221198156682 \n",
      "\n",
      "Specificity on training data\n",
      "0.9916666666666667\n",
      "Specificity on testing data\n",
      "0.9873913043478261 \n",
      "\n",
      "Precision score on training data\n",
      "0.38271604938271603\n",
      "Precision score on testing data\n",
      "0.3409090909090909 \n",
      "\n",
      "F1 score on training data\n",
      "0.05735430157261795\n",
      "F1 score on testing data\n",
      "0.06276150627615062\n"
     ]
    }
   ],
   "source": [
    "get_classification_stats(ridgeregr_pca, train_principal_components,\n",
    "                         test_principal_components, y_train, y_test)"
   ]
  },
  {
   "cell_type": "markdown",
   "metadata": {},
   "source": [
    "#### PCA Lasso"
   ]
  },
  {
   "cell_type": "code",
   "execution_count": 190,
   "metadata": {
    "ExecuteTime": {
     "end_time": "2019-01-12T19:49:03.658129Z",
     "start_time": "2019-01-12T19:49:03.591100Z"
    },
    "scrolled": false
   },
   "outputs": [
    {
     "name": "stdout",
     "output_type": "stream",
     "text": [
      "######################################## \n",
      "\n",
      "Lambda is 10.0\n",
      "R-squared on PCA train data for lasso regression:\n",
      "0.855 \n",
      "\n",
      "R-squared on PCA test data for lasso regression:\n",
      "0.837966349670812 \n",
      "\n",
      "######################################## \n",
      "\n",
      "Lambda is 1.0\n",
      "R-squared on PCA train data for lasso regression:\n",
      "0.8547142857142858 \n",
      "\n",
      "R-squared on PCA test data for lasso regression:\n",
      "0.8365032918800293 \n",
      "\n",
      "######################################## \n",
      "\n",
      "Lambda is 0.1\n",
      "R-squared on PCA train data for lasso regression:\n",
      "0.8544285714285714 \n",
      "\n",
      "R-squared on PCA test data for lasso regression:\n",
      "0.8361375274323336 \n",
      "\n",
      "######################################## \n",
      "\n",
      "Lambda is 0.01\n",
      "R-squared on PCA train data for lasso regression:\n",
      "0.8544285714285714 \n",
      "\n",
      "R-squared on PCA test data for lasso regression:\n",
      "0.8361375274323336 \n",
      "\n",
      "######################################## \n",
      "\n",
      "Lambda is 0.001\n",
      "R-squared on PCA train data for lasso regression:\n",
      "0.8544285714285714 \n",
      "\n",
      "R-squared on PCA test data for lasso regression:\n",
      "0.8361375274323336 \n",
      "\n",
      "######################################## \n",
      "\n",
      "Lambda is 0.0001\n",
      "R-squared on PCA train data for lasso regression:\n",
      "0.8544285714285714 \n",
      "\n",
      "R-squared on PCA test data for lasso regression:\n",
      "0.8361375274323336 \n",
      "\n"
     ]
    }
   ],
   "source": [
    "for i in [.1, 1, 10, 100, 1000, 10000]:\n",
    "    lass_pca = linear_model.LogisticRegression(\n",
    "        penalty='l1', fit_intercept=True, C=i)\n",
    "    lass_pca.fit(train_principal_components, y_train)\n",
    "\n",
    "    print(40 * '#', '\\n')\n",
    "    print('Lambda is {}'.format(1/i))\n",
    "    print('Accuracy on PCA train data for lasso regression:')\n",
    "    print(lass_pca.score(train_principal_components, y_train), '\\n')\n",
    "    print('Accuracy on PCA test data for lasso regression:')\n",
    "    print(lass_pca.score(test_principal_compenents, y_test), '\\n')"
   ]
  },
  {
   "cell_type": "code",
   "execution_count": 412,
   "metadata": {
    "ExecuteTime": {
     "end_time": "2019-01-15T02:33:34.401533Z",
     "start_time": "2019-01-15T02:33:34.376357Z"
    }
   },
   "outputs": [
    {
     "data": {
      "text/plain": [
       "LogisticRegression(C=0.1, class_weight=None, dual=False, fit_intercept=True,\n",
       "          intercept_scaling=1, max_iter=100, multi_class='warn',\n",
       "          n_jobs=None, penalty='l1', random_state=3, solver='warn',\n",
       "          tol=0.0001, verbose=0, warm_start=False)"
      ]
     },
     "execution_count": 412,
     "metadata": {},
     "output_type": "execute_result"
    }
   ],
   "source": [
    "lass_pca = linear_model.LogisticRegression(\n",
    "        penalty='l1', fit_intercept=True, C=.1, random_state=3)\n",
    "lass_pca.fit(train_principal_components, y_train)"
   ]
  },
  {
   "cell_type": "code",
   "execution_count": 413,
   "metadata": {
    "ExecuteTime": {
     "end_time": "2019-01-15T02:33:53.567876Z",
     "start_time": "2019-01-15T02:33:53.375921Z"
    }
   },
   "outputs": [
    {
     "name": "stdout",
     "output_type": "stream",
     "text": [
      "Accuracy on train data\n",
      "0.855 \n",
      "\n",
      "Accuracy on test data\n",
      "0.837966349670812 \n",
      "\n",
      "Confusion matrix on training data\n",
      "[[5959   41]\n",
      " [ 974   26]]\n",
      "Confusion matrix on testing data\n",
      "[[2278   22]\n",
      " [ 421   13]] \n",
      "\n",
      "Recall score on training data\n",
      "0.026\n",
      "Recall score on testing data\n",
      "0.029953917050691243 \n",
      "\n",
      "Specificity on training data\n",
      "0.9931666666666666\n",
      "Specificity on testing data\n",
      "0.9904347826086957 \n",
      "\n",
      "Precision score on training data\n",
      "0.3880597014925373\n",
      "Precision score on testing data\n",
      "0.37142857142857144 \n",
      "\n",
      "F1 score on training data\n",
      "0.048734770384254916\n",
      "F1 score on testing data\n",
      "0.05543710021321962\n"
     ]
    }
   ],
   "source": [
    "get_classification_stats(lass_pca, train_principal_components, test_principal_components, y_train, y_test)"
   ]
  },
  {
   "cell_type": "markdown",
   "metadata": {},
   "source": [
    "#### PCA Logistic"
   ]
  },
  {
   "cell_type": "code",
   "execution_count": 418,
   "metadata": {
    "ExecuteTime": {
     "end_time": "2019-01-15T02:35:18.327518Z",
     "start_time": "2019-01-15T02:35:18.276016Z"
    },
    "scrolled": false
   },
   "outputs": [],
   "source": [
    "lr_pca = linear_model.LogisticRegression(fit_intercept=True, random_state=3)\n",
    "fit = lr_pca.fit(train_principal_components, y_train)"
   ]
  },
  {
   "cell_type": "code",
   "execution_count": 419,
   "metadata": {
    "ExecuteTime": {
     "end_time": "2019-01-15T02:35:18.900829Z",
     "start_time": "2019-01-15T02:35:18.601424Z"
    }
   },
   "outputs": [
    {
     "name": "stdout",
     "output_type": "stream",
     "text": [
      "Accuracy on train data\n",
      "0.8544285714285714 \n",
      "\n",
      "Accuracy on test data\n",
      "0.8361375274323336 \n",
      "\n",
      "Confusion matrix on training data\n",
      "[[5950   50]\n",
      " [ 969   31]]\n",
      "Confusion matrix on testing data\n",
      "[[2271   29]\n",
      " [ 419   15]] \n",
      "\n",
      "Recall score on training data\n",
      "0.031\n",
      "Recall score on testing data\n",
      "0.03456221198156682 \n",
      "\n",
      "Specificity on training data\n",
      "0.9916666666666667\n",
      "Specificity on testing data\n",
      "0.9873913043478261 \n",
      "\n",
      "Precision score on training data\n",
      "0.38271604938271603\n",
      "Precision score on testing data\n",
      "0.3409090909090909 \n",
      "\n",
      "F1 score on training data\n",
      "0.05735430157261795\n",
      "F1 score on testing data\n",
      "0.06276150627615062\n"
     ]
    }
   ],
   "source": [
    "get_classification_stats(lr_pca, train_principal_components, test_principal_components, y_train, y_test)"
   ]
  },
  {
   "cell_type": "markdown",
   "metadata": {},
   "source": [
    "#### SVC with PCA"
   ]
  },
  {
   "cell_type": "code",
   "execution_count": 426,
   "metadata": {
    "ExecuteTime": {
     "end_time": "2019-01-17T13:04:11.015244Z",
     "start_time": "2019-01-17T13:04:10.294282Z"
    }
   },
   "outputs": [
    {
     "data": {
      "text/plain": [
       "SVC(C=1.0, cache_size=200, class_weight=None, coef0=0.0,\n",
       "  decision_function_shape='ovr', degree=3, gamma='auto_deprecated',\n",
       "  kernel='rbf', max_iter=-1, probability=False, random_state=3,\n",
       "  shrinking=True, tol=0.001, verbose=False)"
      ]
     },
     "execution_count": 426,
     "metadata": {},
     "output_type": "execute_result"
    }
   ],
   "source": [
    "svm_pca = SVC(random_state=3)\n",
    "svm_pca.fit(train_principal_components, y_train)"
   ]
  },
  {
   "cell_type": "code",
   "execution_count": 427,
   "metadata": {
    "ExecuteTime": {
     "end_time": "2019-01-17T13:04:12.756124Z",
     "start_time": "2019-01-17T13:04:11.810017Z"
    }
   },
   "outputs": [
    {
     "name": "stdout",
     "output_type": "stream",
     "text": [
      "Accuracy on train data\n",
      "0.8667142857142857 \n",
      "\n",
      "Accuracy on test data\n",
      "0.8463789319678128 \n",
      "\n",
      "Confusion matrix on training data\n",
      "[[5995    5]\n",
      " [ 928   72]]\n",
      "Confusion matrix on testing data\n",
      "[[2294    6]\n",
      " [ 414   20]] \n",
      "\n",
      "Recall score on training data\n",
      "0.072\n",
      "Recall score on testing data\n",
      "0.04608294930875576 \n",
      "\n",
      "Specificity on training data\n",
      "0.9991666666666666\n",
      "Specificity on testing data\n",
      "0.9973913043478261 \n",
      "\n",
      "Precision score on training data\n",
      "0.935064935064935\n",
      "Precision score on testing data\n",
      "0.7692307692307693 \n",
      "\n",
      "F1 score on training data\n",
      "0.13370473537604455\n",
      "F1 score on testing data\n",
      "0.08695652173913043\n"
     ]
    }
   ],
   "source": [
    "get_classification_stats(svm_pca, train_principal_components, test_principal_components, y_train, y_test)"
   ]
  }
 ],
 "metadata": {
  "kernelspec": {
   "display_name": "Python 3",
   "language": "python",
   "name": "python3"
  },
  "language_info": {
   "codemirror_mode": {
    "name": "ipython",
    "version": 3
   },
   "file_extension": ".py",
   "mimetype": "text/x-python",
   "name": "python",
   "nbconvert_exporter": "python",
   "pygments_lexer": "ipython3",
   "version": "3.7.2"
  },
  "toc": {
   "base_numbering": 1,
   "nav_menu": {},
   "number_sections": false,
   "sideBar": true,
   "skip_h1_title": false,
   "title_cell": "Table of Contents",
   "title_sidebar": "Contents",
   "toc_cell": false,
   "toc_position": {
    "height": "calc(100% - 180px)",
    "left": "10px",
    "top": "150px",
    "width": "171.974px"
   },
   "toc_section_display": true,
   "toc_window_display": true
  },
  "varInspector": {
   "cols": {
    "lenName": 16,
    "lenType": 16,
    "lenVar": 40
   },
   "kernels_config": {
    "python": {
     "delete_cmd_postfix": "",
     "delete_cmd_prefix": "del ",
     "library": "var_list.py",
     "varRefreshCmd": "print(var_dic_list())"
    },
    "r": {
     "delete_cmd_postfix": ") ",
     "delete_cmd_prefix": "rm(",
     "library": "var_list.r",
     "varRefreshCmd": "cat(var_dic_list()) "
    }
   },
   "oldHeight": 122.72681799999998,
   "position": {
    "height": "40px",
    "left": "1039.09px",
    "right": "20px",
    "top": "120px",
    "width": "250px"
   },
   "types_to_exclude": [
    "module",
    "function",
    "builtin_function_or_method",
    "instance",
    "_Feature"
   ],
   "varInspector_section_display": "none",
   "window_display": false
  }
 },
 "nbformat": 4,
 "nbformat_minor": 2
}
